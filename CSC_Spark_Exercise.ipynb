{
 "cells": [
  {
   "cell_type": "markdown",
   "metadata": {},
   "source": [
    "<img align=center src=\"https://csc.web.cern.ch/wp-content/uploads/CSC.png\" width=400/>"
   ]
  },
  {
   "cell_type": "markdown",
   "metadata": {},
   "source": [
    "# Exercise 3: The Map-Reduce Pattern of Parallelism\n",
    "<hr style=\"border-top-width: 4px; border-top-color: #34609b;\">"
   ]
  },
  {
   "cell_type": "markdown",
   "metadata": {},
   "source": [
    "This exercise aims to illustrate the characteristics of the Map-Reduce parallel pattern by means of the Spark programming model."
   ]
  },
  {
   "cell_type": "markdown",
   "metadata": {},
   "source": [
    "## Prelude: Introduction to Spark"
   ]
  },
  {
   "cell_type": "markdown",
   "metadata": {},
   "source": [
    "<img align=left src=\"http://spark-mooc.github.io/web-assets/images/ta_Spark-logo-small.png\" width=150/>"
   ]
  },
  {
   "cell_type": "markdown",
   "metadata": {},
   "source": [
    "\n",
    "[Spark](http://spark.apache.org) is a framework for parallel distributed data processing on a set of commodity machines. It frees the user from duties like task scheduling, data transfer and fault tolerance, so that they can focus on programming.\n",
    "\n",
    "The Spark programming model uses the Map-Reduce model as a basis, simplifying its usage and extending it with more functionality. The following are two basic concepts in Spark:\n",
    "* `Resilient Distributed Datasets (RDDs)`: an RDD is a distributed collection of items. The collection is divided in partitions, and these partitions are the units of parallelism.\n",
    "* `Transformations and actions`: the user can apply either transformations or actions on RDDs. Transformations are `lazy`, they are not applied right away, unlike actions. In other words, one can apply a chain of transformations to an RDD, but only when appending an action to that chain the whole computation graph will start executing. `map` is an example of a transformation, while `reduce` is an action. However, Spark is not limited to just map and reduce: it offers a rich variety of functional-style operators. Although we will not use all those operators in this exercise, you can find a complete list [here](http://spark.apache.org/docs/latest/programming-guide.html).\n",
    "\n",
    "As for the language, Spark programs can be developed in Scala, Java and Python. The latter will be used in this exercise."
   ]
  },
  {
   "cell_type": "markdown",
   "metadata": {},
   "source": [
    "## 1. Map-Reduce on a collection of elements\n",
    "\n",
    "Map-Reduce is a combination of two patterns of parallelism:\n",
    "* `Map`: given a collection of elements of type $X$, apply a function $F_{map}$ to each element that returns a single element of type $Y$.\n",
    "* `Reduce`: given a collection of elements of type $Y$, combine its elements into an element of type $Y$ using a function $F_{reduce}$.\n",
    "\n",
    "These two patterns can be chained to obtain a single result from a collection of elements:\n",
    "\n",
    "$(X_{1},~X_{2},~...,~X_{n})~\\xrightarrow{F_{map}}~(Y_{1},~Y_{2},~...,~Y_{n})~\\xrightarrow{F_{reduce}}~Y_{result}$\n",
    "\n",
    "Spark implements these patterns via two operators, [map](https://spark.apache.org/docs/latest/api/python/reference/api/pyspark.RDD.map.html) and [reduce](https://spark.apache.org/docs/latest/api/python/reference/api/pyspark.RDD.reduce.html). Both receive a function as parameter; in the case of `map`, the function must receive **one** parameter of type $X$ and return a value of type $Y$; regarding `reduce`, the function must receive **two** parameters of type $Y$ and return a value of type $Y$."
   ]
  },
  {
   "cell_type": "markdown",
   "metadata": {},
   "source": [
    "### First example\n",
    "\n",
    "Let's start with a simple example of how to run a Map-Reduce chain with Spark.\n",
    "\n",
    "First we will perform some initialisation of the Spark library. In particular, we will create a `SparkContext` object that we will use later."
   ]
  },
  {
   "cell_type": "code",
   "execution_count": null,
   "metadata": {},
   "outputs": [],
   "source": [
    "from pyspark import SparkContext\n",
    "sc = SparkContext()"
   ]
  },
  {
   "cell_type": "markdown",
   "metadata": {},
   "source": [
    "Next we will create our first RDD, i.e. a collection of elements in Spark. In this case, the collection is a list of numbers."
   ]
  },
  {
   "cell_type": "code",
   "execution_count": null,
   "metadata": {},
   "outputs": [],
   "source": [
    "rdd = sc.parallelize([1, 2, 4, 8])"
   ]
  },
  {
   "cell_type": "markdown",
   "metadata": {},
   "source": [
    "Let's now `map` a function to our collection to increment each of its elements. We will first define such function:"
   ]
  },
  {
   "cell_type": "code",
   "execution_count": null,
   "metadata": {},
   "outputs": [],
   "source": [
    "def increment(x):\n",
    "    return x + 1"
   ]
  },
  {
   "cell_type": "markdown",
   "metadata": {},
   "source": [
    "We can now apply the `increment` function to every element in our collection via the `map` operator."
   ]
  },
  {
   "cell_type": "markdown",
   "metadata": {},
   "source": [
    "<img align=left src=\"https://cdn.rawgit.com/jkthompson/pyspark-pictures/master/images/pyspark-page3.svg\" width=500 height=250 />"
   ]
  },
  {
   "cell_type": "code",
   "execution_count": null,
   "metadata": {},
   "outputs": [],
   "source": [
    "incrementedRDD = rdd.map(increment)"
   ]
  },
  {
   "cell_type": "markdown",
   "metadata": {},
   "source": [
    "You can actually check the incremented values with the [collect](https://spark.apache.org/docs/latest/api/python/reference/api/pyspark.RDD.collect.html?highlight=collect#pyspark.RDD.collect) function of Spark. Note that with the statement above you just *scheduled* a calculation which is not executed by the Spark runtime: `map` is indeed a *transformation*. The actual work is triggered by an *action*, such as `collect` or `reduce`."
   ]
  },
  {
   "cell_type": "code",
   "execution_count": null,
   "metadata": {},
   "outputs": [],
   "source": [
    "incrementedRDD.collect()"
   ]
  },
  {
   "cell_type": "markdown",
   "metadata": {},
   "source": [
    "Let's suppose we would like to obtain the sum of all the numbers in the collection. For that purpose, we can use `reduce` and a function that returns the sum of two numbers."
   ]
  },
  {
   "cell_type": "code",
   "execution_count": null,
   "metadata": {},
   "outputs": [],
   "source": [
    "def add(x, y):\n",
    "    return x + y"
   ]
  },
  {
   "cell_type": "markdown",
   "metadata": {},
   "source": [
    "Spark's `reduce` functionality will apply `add` to our collection, adding its elements two by two until calculating the total sum."
   ]
  },
  {
   "cell_type": "markdown",
   "metadata": {},
   "source": [
    "<img align=left src=\"https://cdn.rawgit.com/jkthompson/pyspark-pictures/master/images/pyspark-page23.svg\" width=500 height=250 />"
   ]
  },
  {
   "cell_type": "code",
   "execution_count": null,
   "metadata": {},
   "outputs": [],
   "source": [
    "totalSum = incrementedRDD.reduce(add)\n",
    "totalSum"
   ]
  },
  {
   "cell_type": "markdown",
   "metadata": {},
   "source": [
    "Note that you can also do the same calculation in a single Map-Reduce chain:"
   ]
  },
  {
   "cell_type": "code",
   "execution_count": null,
   "metadata": {},
   "outputs": [],
   "source": [
    "rdd.map(increment).reduce(add)"
   ]
  },
  {
   "cell_type": "markdown",
   "metadata": {},
   "source": [
    "### Exercise to complete\n",
    "\n",
    "Now that you became familiar with the Map-Reduce pattern and its implementation in Spark, we propose you an exercise to apply what you just learned to a different problem.\n",
    "\n",
    "In this case, our collection will be a list of town names:"
   ]
  },
  {
   "cell_type": "code",
   "execution_count": null,
   "metadata": {},
   "outputs": [],
   "source": [
    "names = sc.parallelize(['A Coruña', 'Aachen', 'Aarhus', 'Abbeville', 'Aberdeen', 'Adelboden', 'Agde', 'Agen', 'Agios Nikolaos', 'Agrigento', 'Agropoli', 'Aigues-Mortes', 'Aix-en-Provence', 'Aix-les-Bains', 'Ajaccio', 'Alanya', 'Alaró', 'Albacete', 'Albenga', 'Albi', 'Albufeira', 'Alcudia', 'Alessandria', 'Ålesund', 'Algeciras', 'Alghero', 'Alicante', 'Alkmaar', 'Alpbach', 'Alpe d\\'Huez', 'Alta Badia', 'Altea', 'Amalfi', 'Amersfoort', 'Amiens', 'Amsterdam', 'Ancona', 'Andalo', 'Andermatt', 'Andorra la Vella', 'Andratx', 'Andria', 'Angers', 'Angoulême', 'Ankara', 'Annecy', 'Antalya', 'Antibes', 'Antwerp', 'Anzio', 'Aosta', 'Apeldoorn', 'Arcachon', 'Arenzano', 'Arezzo', 'Argostoli', 'Arlberg', 'Arles', 'Armagh', 'Arnhem', 'Arosa', 'Arras', 'Arrecife', 'Artà', 'Ascoli Piceno', 'Ascona', 'Asti', 'Athens', 'Athlone', 'Augsburg', 'Auxerre', 'Aveiro', 'Avellino', 'Avignon', 'Avoriaz', 'Axamer Lizum', 'Ayia Napa', 'Bad Gastein', 'Bad Hofgastein', 'Baden', 'Baiona', 'Bandol', 'Bar', 'Barcelona', 'Bari', 'Barletta', 'Basel', 'Bastia', 'Bath', 'Bayonne', 'Beaulieu-sur-Mer', 'Beaune', 'Belfast', 'Belfort', 'Belgrade', 'Bellinzona', 'Belluno', 'Benalmadena', 'Benevento', 'Benicàssim', 'Benidorm', 'Bergamo', 'Bergen', 'Bergerac', 'Berlin', 'Bern', 'Besançon', 'Béziers', 'Biarritz', 'Biel/Bienne', 'Bielefeld', 'Biella', 'Bilbao', 'Birmingham', 'Blanes', 'Bled', 'Blois', 'Bochum', 'Bodrum', 'Bologna', 'Bolzano', 'Bonifacio', 'Bonn', 'Bordeaux', 'Bordighera', 'Bormio', 'Boulogne-sur-Mer', 'Bourges', 'Bradford', 'Braga', 'Bratislava', 'Braunschweig', 'Breda', 'Bregenz', 'Brela', 'Bremen', 'Bremerhaven', 'Brescia', 'Brest', 'Briançon', 'Brighton', 'Brindisi', 'Bristol', 'Brixen', 'Brixental', 'Brno', 'Bruges', 'Brussels', 'Bucharest', 'Budapest', 'Budva', 'Burgas',  'Cadaqués', 'Cádiz', 'Caen', 'Cagliari', 'Cagnes-sur-Mer', 'Cala Bona', 'Cala d\\'Or', 'Cala Millor', 'Cala Ratjada', 'Calais', 'Calella', 'Calp', 'Caltanissetta', 'Calvi', 'Cambridge', 'Cambrils', 'Campobasso', 'Can Pastilla', 'Can Picafort', 'Canazei', 'Cannes', 'Canterbury', 'Canyamel', 'Capdepera', 'Carbonia', 'Carcassonne', 'Cardiff', 'Carlisle', 'Carpi', 'Carrara', 'Cartagena', 'Caserta', 'Cassis', 'Castellón de la Plana', 'Castelrotto', 'Catania', 'Catanzaro', 'Celle', 'Cervinia', 'Cesena', 'Český Krumlov', 'Çeşme', 'Chamonix', 'Chania', 'Charleroi', 'Chartres', 'Chelmsford', 'Chemnitz', 'Cherbourg', 'Chester', 'Chiavari', 'Chichester', 'Chieti', 'Chioggia', 'Chios', 'Chișinău', 'Chur', 'Ciutadella de Menorca', 'Civitavecchia', 'Clermont-Ferrand', 'Coimbra', 'Collioure', 'Colmar', 'Cologne', 'Como', 'Conil de la Frontera', 'Copenhagen', 'Cordoba', 'Corfu', 'Corinth', 'Cork', 'Corralejo', 'Cortina d\\'Ampezzo', 'Cosenza', 'Costa Adeje', 'Cottbus', 'Courchevel', 'Courmayeur', 'Coventry', 'Crans-Montana', 'Cremona', 'Crotone', 'Cuenca', 'Cuneo',  'Dachau', 'Dachstein-West', 'Darmstadt', 'Daugavpils', 'Davos', 'Deauville', 'Delft', 'Den Bosch', 'Denia', 'Derby', 'Derry', 'Didim', 'Dieppe', 'Dijon', 'Dolomiti Superski', 'Dordrecht', 'Dorfgastein', 'Dortmund', 'Dresden', 'Dublin', 'Dubrovnik', 'Duisburg', 'Dundalk', 'Dundee', 'Dunkirk', 'Durham', 'Düsseldorf',  'Eastbourne', 'Edinburgh', 'Eindhoven', 'Elche', 'Ellmau', 'Elm', 'Empuriabrava', 'Engelberg', 'Enna', 'Enschede', 'Épinal', 'Erfurt', 'Erlangen', 'Esbjerg', 'Essen', 'Estepona', 'Exeter', 'Èze',  'Faenza', 'Famagusta', 'Fano', 'Faro', 'Fermo', 'Ferrara', 'Fethiye', 'Fieberbrunn', 'Filzmoos', 'Finale Ligure', 'Fiumicino', 'Flaine', 'Florence', 'Foggia', 'Folgarida', 'Forlì', 'Forte dei Marmi', 'Frankfurt am Main', 'Freiburg', 'Fribourg', 'Frosinone', 'Fuengirola', 'Funchal', 'Galtür', 'Galway', 'Gandia', 'Gdansk', 'Gdynia', 'Gelsenkirchen', 'Geneva', 'Genoa', 'Ghent', 'Gijón', 'Girona', 'Glasgow', 'Gloucester', 'Gorizia', 'Gothenburg', 'Göttingen', 'Gouda', 'Granada', 'Granville', 'Grasse', 'Graz', 'Grenoble', 'Grindelwald', 'Groningen', 'Grossarl', 'Grosseto', 'Gstaad', 'Guimarães',  'Haarlem', 'Halle', 'Hamburg', 'Hannover', 'Hasselt', 'Hastings', 'Heidelberg', 'Heilbronn', 'Heiligenblut', 'Helsinki', 'Heraklion', 'Herceg Novi', 'Hereford', 'Hinterglemm', 'Hinterstoder', 'Hintertux', 'Hochkönig', 'Honfleur', 'Horsens', 'Hvar', 'Hyères',  'Ibiza Town', 'Imola', 'Imperia', 'Inca', 'Ingolstadt', 'Innsbruck', 'Interlaken', 'Inverness', 'Ioannina', 'Ischgl', 'Isernia', 'Istanbul', 'İzmir', 'Izola',  'Jena', 'Jerez de la Frontera', 'Juan-les-Pins', 'Jungfrau', 'Jūrmala',  'Kaiserslautern', 'Kalamata', 'Kappl', 'Kaprun', 'Karlovy Vary', 'Karlsruhe', 'Kassel', 'Kastoria', 'Katschberg', 'Kaunas', 'Kavala', 'Kemer', 'Kiel', 'Kilkenny', 'Kingston upon Hull', 'Kitzbühel', 'Klagenfurt', 'Klaipėda', 'Koblenz', 'Kolding', 'Komotini', 'Koper', 'Kos', 'Košice', 'Kotor', 'Krakow', 'Krefeld', 'Kreischberg', 'Kuşadası', 'Kutná Hora', 'Kyiv', 'Kyrenia',  'La Ciotat', 'La Clusaz', 'La Laguna', 'La Maddalena', 'La Manga', 'La Plagne', 'La Rochelle', 'La Seyne-sur-Mer', 'La Spezia', 'La Thuile', 'Laax', 'Lachtal', 'Lagos', 'Lamezia Terme', 'Lancaster', 'Landshut', 'L\\'Aquila', 'Larnaca', 'Las Palmas', 'Latina', 'Lausanne', 'Le Havre', 'Le Lavandou', 'Le Mans', 'Le Puy-en-Velay', 'Lecce', 'Lecco', 'Lech', 'Leeds', 'Legnano', 'Leicester', 'Leiden', 'Leipzig', 'Lemgo', 'Leogang', 'Les Arcs', 'Les Deux Alpes', 'Les Gets', 'Les Houches', 'Les Menuires', 'Leuven', 'Leverkusen', 'Liberec', 'Lichfield', 'Liège', 'Lienz', 'Liepāja', 'Lille', 'Limassol', 'Limerick', 'Limoges', 'Lincoln', 'Lindos', 'Linz', 'Lisbon', 'Lisburn', 'Liverpool', 'Livigno', 'Livorno', 'Ljubljana', 'Lloret de Mar', 'Llucmajor', 'Loano', 'Locarno', 'Lodi', 'Lodz', 'Logroño', 'London', 'Los Cristianos', 'Lourdes', 'Loutraki', 'Louvain-la-Neuve', 'Lübeck', 'Lublin', 'Lucca', 'Lucerne', 'Lugano', 'Lund', 'Lungau', 'Luxembourg', 'Lyon',  'Maastricht', 'Macerata', 'Madonna di Campiglio', 'Madrid', 'Magaluf', 'Magdeburg', 'Mahón', 'Mainz', 'Makarska', 'Malaga', 'Malia', 'Malmö', 'Manacor', 'Manchester', 'Mannheim', 'Manosque', 'Mantua', 'Marbella', 'Maria Alm', 'Maribor', 'Marmaris', 'Marsala', 'Marseille', 'Martigues', 'Maspalomas', 'Massa', 'Matera', 'Mayrhofen', 'Mazara del Vallo', 'Mechelen', 'Megève', 'Menton', 'Merano', 'Meribel', 'Mérida', 'Messina', 'Mestre', 'Metz', 'Middelburg', 'Mijas', 'Milan', 'Millau', 'Minsk', 'Modena', 'Modica', 'Moena', 'Monaco City', 'Mönchengladbach', 'Mons', 'Monschau', 'Montafon', 'Monte Carlo', 'Monte Rosa', 'Montepulciano', 'Montluçon', 'Montpellier', 'Montreux', 'Monza', 'Moraira', 'Morzine', 'Moscow', 'Mulhouse', 'Munich', 'Münster', 'Murcia', 'Murter', 'Mykonos', 'Mytilene',  'Nafplio', 'Namur', 'Nancy', 'Nantes', 'Naples', 'Narbonne', 'Narva', 'Nassfeld', 'Naxos', 'Nerja', 'Nevers', 'Newcastle', 'Newport', 'Newry', 'Nice', 'Nicosia', 'Nijmegen', 'Nîmes', 'Niort', 'Norwich', 'Nottingham', 'Novara', 'Novigrad', 'Nuoro', 'Nürnberg', 'Nuuk', 'Nyon',  'Obergurgl', 'Oberhausen', 'Obertauern', 'Odense', 'Oia', 'Olbia', 'Oldenburg', 'Olomouc', 'Opatija', 'Oristano', 'Orléans', 'Ortisei', 'Oslo', 'Osnabrück', 'Ostrava', 'Oulu', 'Ourense', 'Oviedo', 'Oxford', 'Paderborn', 'Padova', 'Palanga', 'Palavas-les-Flots', 'Palermo', 'Palma de Mallorca', 'Palma Nova', 'Pamplona', 'Paphos', 'Paralia', 'Parikia', 'Paris', 'Parma', 'Pärnu', 'Passo del Tonale', 'Passo Rolle', 'Patras', 'Pau', 'Pavia', 'Peguera', 'Peniscola', 'Perast', 'Périgueux', 'Perpignan', 'Perros-Guirec', 'Perth (UK)', 'Perugia', 'Pesaro', 'Pescara', 'Pescasseroli', 'Peterborough', 'Petra', 'Petrovac', 'Pforzheim', 'Piacenza', 'Piraeus', 'Piran', 'Pisa', 'Pistoia', 'Pitztal', 'Playa Blanca', 'Playa de las Américas', 'Playa de Muro', 'Plovdiv', 'Plymouth', 'Plzeň', 'Podgorica', 'Poitiers', 'Pollença', 'Pontevedra', 'Pordenone', 'Poreč', 'Port d\\'Andratx', 'Portimão', 'Porto', 'Porto Cervo', 'Porto Cristo', 'Porto Torres', 'Portocolom', 'Portoferraio', 'Portofino', 'Portorož', 'Porto-Vecchio', 'Portsmouth', 'Positano', 'Potenza', 'Potsdam', 'Poznan', 'Pozzuoli', 'Prague', 'Praia da Rocha', 'Prato', 'Preston', 'Pristina', 'Propriano', 'Protaras', 'Puerto de la Cruz', 'Puerto Rico de Gran Canaria', 'Pula',  'Quarteira', 'Quimper',  'Ragusa', 'Randers', 'Rapallo', 'Ratingen', 'Ravello', 'Ravenna', 'Regensburg', 'Reggio Calabria', 'Reggio Emilia', 'Reims', 'Rennes', 'Rethymno', 'Reus', 'Reutlingen', 'Reykjavik', 'Rhodes', 'Rieti', 'Riga', 'Rijeka', 'Rimini', 'Riomaggiore', 'Rocamadour', 'Rodez', 'Rome', 'Ronda', 'Roskilde', 'Rostock', 'Rotterdam', 'Roubaix', 'Rouen', 'Rovigo', 'Rovinj',  'Sa Coma', 'Sa Pobla', 'Saalbach', 'Saarbrücken', 'Saas-Fee', 'Saint Petersburg', 'Saint-Brieuc', 'Sainte-Maxime', 'Saintes-Maries-de-la-Mer', 'Saint-Étienne', 'Saint-Jean-Cap-Ferrat', 'Saint-Malo', 'Saint-Tropez', 'Salamanca', 'Salerno', 'Salisbury', 'Salou', 'Salzburg', 'San Marino', 'San Sebastián', 'Sanremo', 'Sant Antoni de Portmany', 'Santa Cruz de Tenerife', 'Santa Eulària des Riu', 'Santa Margherita Ligure', 'Santa Pola', 'Santa Ponsa', 'Santander', 'Santanyí', 'Santiago de Compostela', 'Sarajevo', 'S\\'Arenal', 'Sarlat-la-Canéda', 'Sassari', 'Saumur', 'Savona', 'Schaffhausen', 'Schladming', 'Seefeld', 'Segovia', 'Semmering', 'Serre Chevalier', 'Sète', 'Seville', 'Sheffield', 'Šiauliai', 'Šibenik', 'Side', 'Siegen', 'Siena', 'Sineu', 'Sion', 'Sitges', 'Skiathos', 'SkiWelt', 'Skopje', 'Sofia', 'Sölden', 'Söll', 'Soller', 'Solothurn', 'Sondrio', 'Sopot', 'Sorrento', 'Southampton', 'Split', 'Sportgastein', 'St Albans', 'St. Anton', 'St. Gallen', 'St. Moritz', 'Stavanger', 'Stirling', 'Stockholm', 'Stoke-on-Trent', 'Strasbourg', 'Stubai', 'Stuhleck', 'Stuttgart', 'Sunderland', 'Sveti Stefan', 'Swansea', 'Syracuse', 'Szczecin',  'Tallinn', 'Tampere', 'Taormina', 'Taranto', 'Tarifa', 'Tarragona', 'Tartu', 'Tauplitz', 'Tavira', 'Teramo', 'Terni', 'The Hague', 'Thessaloniki', 'Tignes', 'Tilburg', 'Tinos', 'Tirana', 'Tivat', 'Tivoli', 'Toledo', 'Torre del Greco', 'Torre del Mar', 'Torremolinos', 'Torrevieja', 'Tórshavn', 'Toruń', 'Tossa de Mar', 'Toulon', 'Toulouse', 'Tours', 'Trani', 'Trapani', 'Trento', 'Treviso', 'Trier', 'Trieste', 'Trogir', 'Tromsø', 'Trondheim', 'Trouville-sur-Mer', 'Troyes', 'Tui', 'Turin', 'Turku', 'Turracher Höhe',  'Udine', 'Ulcinj', 'Ulm', 'Umag', 'Uppsala', 'Urbino', 'Utrecht',  'Val d’Isère', 'Val di Fassa', 'Val Gardena', 'Val Thorens', 'Valence', 'Valencia', 'Valladolid', 'Valldemossa', 'Valle Isarco', 'Valletta', 'Varazze', 'Varese', 'Varna', 'Vejle', 'Venice', 'Ventimiglia', 'Ventspils', 'Verbania', 'Verbier', 'Vercelli', 'Verona', 'Versailles', 'Vevey', 'Viareggio', 'Vibo Valentia', 'Viborg', 'Vicenza', 'Vichy', 'Vienna', 'Vigo', 'Vilamoura', 'Villach', 'Villefranche-sur-Mer', 'Vilnius', 'Viterbo', 'Vitoria-Gasteiz', 'Volos', 'Vrsar',  'Wakefield', 'Warsaw', 'Warth', 'Waterford', 'Wengen', 'Westendorf', 'Wiesbaden', 'Winchester', 'Winterthur', 'Wolfsburg', 'Wolverhampton', 'Worcester', 'Worthing', 'Wroclaw', 'Wuppertal', 'Würzburg',   'York', 'd', 'Zadar', 'Zagreb', 'Zakopane', 'Zaragoza', 'Zell am See', 'Zell am Ziller', 'Zermatt', 'Zillertal', 'Zug', 'Zurich', 'Zwickau', 'Zwolle'])"
   ]
  },
  {
   "cell_type": "markdown",
   "metadata": {},
   "source": [
    "Suppose we would like to know the length of the longest name in our list.\n",
    "\n",
    "First, we need a function that receives a string and returns its length (hint: you can use the [len](https://docs.python.org/3.8/library/functions.html#len) Python function)."
   ]
  },
  {
   "cell_type": "code",
   "execution_count": null,
   "metadata": {},
   "outputs": [],
   "source": [
    "def length(s):\n",
    "    # Your code goes here"
   ]
  },
  {
   "cell_type": "markdown",
   "metadata": {},
   "source": [
    "Now define another function that, given two numbers, returns the maximum."
   ]
  },
  {
   "cell_type": "code",
   "execution_count": null,
   "metadata": {},
   "outputs": [],
   "source": [
    "def maximum(x, y):\n",
    "    # Your code goes here"
   ]
  },
  {
   "cell_type": "markdown",
   "metadata": {},
   "source": [
    "Finally, combine the two functions you just defined in a Map-Reduce chain to obtain the desired result."
   ]
  },
  {
   "cell_type": "code",
   "execution_count": null,
   "metadata": {},
   "outputs": [],
   "source": [
    "# Your code goes here"
   ]
  },
  {
   "cell_type": "markdown",
   "metadata": {},
   "source": [
    "### Bonus: What's the name of that city?\n",
    "\n",
    "Think how you can make the length function return both length and element name, and select the longest one in the reduction."
   ]
  },
  {
   "cell_type": "markdown",
   "metadata": {},
   "source": [
    "## 2. Map-Reduce on text files: Word Count\n",
    "\n",
    "A typical real-life example where the Map-Reduce pattern is applied is the processing of text files like, for instance, logs generated by a web server.\n",
    "\n",
    "In this second part of the exercise, you will process a text file and count the occurrences of each word in it."
   ]
  },
  {
   "cell_type": "markdown",
   "metadata": {},
   "source": [
    "### Prepare input data\n",
    "First we will download the input file for this exercise, which corresponds to the Complete Works of William Shakespeare, offered by [Project Gutenberg](http://www.gutenberg.org/)."
   ]
  },
  {
   "cell_type": "code",
   "execution_count": null,
   "metadata": {},
   "outputs": [],
   "source": [
    "!curl  -o 100.zip https://swanserver.web.cern.ch/swanserver/csc/100.zip\n",
    "!unzip -o 100.zip"
   ]
  },
  {
   "cell_type": "markdown",
   "metadata": {},
   "source": [
    "Next we will use Spark to create a collection out of this text file. In the collection, every line of the file will be an element."
   ]
  },
  {
   "cell_type": "code",
   "execution_count": null,
   "metadata": {},
   "outputs": [],
   "source": [
    "textFile = sc.textFile('100.txt')"
   ]
  },
  {
   "cell_type": "markdown",
   "metadata": {},
   "source": [
    "`textFile` is a collection where each element is a string corresponding to a line in the text file."
   ]
  },
  {
   "cell_type": "markdown",
   "metadata": {},
   "source": [
    "### Introducing new operations\n",
    "\n",
    "We will use a Map-Reduce chain to count the ocurrences of each word in the file that is a bit more complicated than what we have seen so far. The chain will contain **two** map operations and one reduce. In addition, you will have to use some new operators, which are a slight variation of the `map` and `reduce` you already know:\n",
    "\n",
    "* [flatMap](https://spark.apache.org/docs/latest/api/python/reference/api/pyspark.RDD.flatMap.html#pyspark.RDD.flatMap): If the user function $F_{map}$ returns a collection of values instead of single value, `flatMap` decomposes the collection into individual elements in the final result.\n",
    "\n",
    "<img align=left src=\"https://cdn.rawgit.com/jkthompson/pyspark-pictures/master/images/pyspark-page4.svg\" width=500 height=250/>\n",
    "\n",
    "<br clear=\"all\">\n",
    "\n",
    "* [reduceByKey](https://spark.apache.org/docs/latest/api/python/reference/api/pyspark.RDD.reduceByKey.html#pyspark.RDD.reduceByKey): Like in the case of `reduce`, the function $F_{reduce}$ passed as parameter of `reduceByKey` receives two elements of type $Y$ and returns an element of the same type. However, `reduceByKey` is applied on collections of key-value pairs, that is, $( ~(key_{1},val_{x}),~(key_{2},val_{y}),~(key_{1},val_{z}),~...~)$, and the output is the reduction of the values for each key $( ~(key_{1}, red_{1}),~(key_{2},red_{2}),~...~)$.\n",
    "\n",
    "<img align=left src=\"https://cdn.rawgit.com/jkthompson/pyspark-pictures/master/images/pyspark-page44.svg\" width=500 height=250/>"
   ]
  },
  {
   "cell_type": "markdown",
   "metadata": {},
   "source": [
    "### Functions\n",
    "\n",
    "Let's now define the functions that will be applied in the Map-Reduce chain. First, you will need a function that splits a line of the text file in a list of words (hint: you can use the [split](https://docs.python.org/2/library/stdtypes.html#str.split) Python function and return words with non alphanumeric characters)."
   ]
  },
  {
   "cell_type": "code",
   "execution_count": null,
   "metadata": {},
   "outputs": [],
   "source": [
    "def splitWords(line):\n",
    "    # Your code goes here"
   ]
  },
  {
   "cell_type": "markdown",
   "metadata": {},
   "source": [
    "The second function you will need receives a word and returns a key-value pair, where the key is the word and the value is 1 (its partial count)."
   ]
  },
  {
   "cell_type": "code",
   "execution_count": null,
   "metadata": {},
   "outputs": [],
   "source": [
    "def count(word):\n",
    "    # Your code goes here"
   ]
  },
  {
   "cell_type": "markdown",
   "metadata": {},
   "source": [
    "Finally, you will need a function that receives two numbers and returns their sum."
   ]
  },
  {
   "cell_type": "code",
   "execution_count": null,
   "metadata": {},
   "outputs": [],
   "source": [
    "def add(x, y):\n",
    "    # Your code goes here"
   ]
  },
  {
   "cell_type": "markdown",
   "metadata": {},
   "source": [
    "### Map-Reduce chain\n",
    "\n",
    "To finish this exercise, combine the three functions you just defined in a chain to get the counts per word in the file."
   ]
  },
  {
   "cell_type": "code",
   "execution_count": null,
   "metadata": {},
   "outputs": [],
   "source": [
    "# Your code goes here\n",
    "wordCounts = "
   ]
  },
  {
   "cell_type": "markdown",
   "metadata": {},
   "source": [
    "Let's see if you got it right..."
   ]
  },
  {
   "cell_type": "code",
   "execution_count": null,
   "metadata": {},
   "outputs": [],
   "source": [
    "wordCounts.collect()"
   ]
  },
  {
   "cell_type": "markdown",
   "metadata": {},
   "source": [
    "### Bonus: Sort by occurrence\n",
    "Now that you hopefully got the word count correct, try Python's [`sorted(iterable, key=..., reverse=True/False)`](https://docs.python.org/3/library/functions.html#sorted) to find the most frequent word in our sample. What is it?"
   ]
  },
  {
   "cell_type": "code",
   "execution_count": null,
   "metadata": {},
   "outputs": [],
   "source": [
    "# Your code goes here\n"
   ]
  }
 ],
 "metadata": {
  "kernelspec": {
   "display_name": "Python 3",
   "language": "python",
   "name": "python3"
  },
  "language_info": {
   "codemirror_mode": {
    "name": "ipython",
    "version": 3
   },
   "file_extension": ".py",
   "mimetype": "text/x-python",
   "name": "python",
   "nbconvert_exporter": "python",
   "pygments_lexer": "ipython3",
   "version": "3.9.12"
  },
  "latex_envs": {
   "LaTeX_envs_menu_present": true,
   "autoclose": false,
   "autocomplete": true,
   "bibliofile": "biblio.bib",
   "cite_by": "apalike",
   "current_citInitial": 1,
   "eqLabelWithNumbers": true,
   "eqNumInitial": 1,
   "hotkeys": {
    "equation": "Ctrl-E",
    "itemize": "Ctrl-I"
   },
   "labels_anchors": false,
   "latex_user_defs": false,
   "report_style_numbering": false,
   "user_envs_cfg": false
  }
 },
 "nbformat": 4,
 "nbformat_minor": 1
}
